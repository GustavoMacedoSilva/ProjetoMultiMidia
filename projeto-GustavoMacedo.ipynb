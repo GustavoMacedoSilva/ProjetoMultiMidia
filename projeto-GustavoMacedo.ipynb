{
 "cells": [
  {
   "cell_type": "code",
   "execution_count": 1,
   "metadata": {},
   "outputs": [],
   "source": [
    "import numpy as np\n",
    "from moviepy.editor import VideoFileClip, concatenate_videoclips, AudioFileClip\n",
    "from moviepy.video.fx.all import fadeout\n",
    "from moviepy.audio.fx.all import audio_fadeout, volumex"
   ]
  },
  {
   "cell_type": "code",
   "execution_count": 2,
   "metadata": {},
   "outputs": [],
   "source": [
    "def invert_x(image):\n",
    "    return np.fliplr(image)\n",
    "\n",
    "def invert_y(image):\n",
    "    return np.flipud(image)\n",
    "\n",
    "def process_frame(get_frame, t):\n",
    "    if int(t // 20) % 2 == 1:\n",
    "        frame = get_frame(t)\n",
    "        return invert_y(frame)\n",
    "    else:\n",
    "        return get_frame(t)\n",
    "\n",
    "clip = VideoFileClip(\"projetoMultiMidia.mp4\")\n",
    "\n",
    "processed_clip = clip.fl(process_frame)\n",
    "\n",
    "#processed_clip.write_videofile(\"video_invertido_alternado.mp4\", codec=\"libx264\")\n",
    "#processed_clip.ipython_display(width=280, maxduration=300)"
   ]
  },
  {
   "cell_type": "code",
   "execution_count": 3,
   "metadata": {},
   "outputs": [],
   "source": [
    "\n",
    "primeiros_minutos = processed_clip.subclip(0, 60)\n",
    "\n",
    "corte_20_segundos = processed_clip.subclip(60, 80)\n",
    "\n",
    "resto = processed_clip.subclip(80)\n",
    "\n",
    "clip_clipado = concatenate_videoclips([primeiros_minutos, resto, corte_20_segundos])\n",
    "\n",
    "#clip_clipado.write_videofile(\"video_com_corte.mp4\", codec=\"libx264\")\n",
    "#clip_clipado.ipython_display(width=280, maxduration=300)"
   ]
  },
  {
   "cell_type": "code",
   "execution_count": 6,
   "metadata": {},
   "outputs": [],
   "source": [
    "import moviepy.editor as mp\n",
    "import numpy as np\n",
    "\n",
    "\n",
    "def abaixar_som(audio, t, tempoTotal):\n",
    "    frame = audio(t)\n",
    "    tempoSobra = tempoTotal - t\n",
    "    \n",
    "    if np.any(tempoSobra <= 10):\n",
    "        frame[:, 0] *= 0\n",
    "        frame[:, 1] *= 0\n",
    "    else:\n",
    "        frame[:, 0] *= tempoSobra / (tempoTotal - 10)\n",
    "        frame[:, 1] *= tempoSobra / (tempoTotal - 10)\n",
    "        \n",
    "    return frame\n",
    "\n",
    "tempoTotal = clip_clipado.duration\n",
    "audio_diminuido = clip_clipado.audio.fl(lambda gf, t: abaixar_som(gf, t, tempoTotal))\n",
    "video_com_som_diminuido = clip_clipado.set_audio(audio_diminuido)\n",
    "\n",
    "#video_com_som_diminuido.ipython_display(width=280, maxduration=300)"
   ]
  }
 ],
 "metadata": {
  "kernelspec": {
   "display_name": "Python 3",
   "language": "python",
   "name": "python3"
  },
  "language_info": {
   "codemirror_mode": {
    "name": "ipython",
    "version": 3
   },
   "file_extension": ".py",
   "mimetype": "text/x-python",
   "name": "python",
   "nbconvert_exporter": "python",
   "pygments_lexer": "ipython3",
   "version": "3.12.5"
  }
 },
 "nbformat": 4,
 "nbformat_minor": 2
}
